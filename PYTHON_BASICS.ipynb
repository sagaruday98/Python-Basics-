{
  "nbformat": 4,
  "nbformat_minor": 0,
  "metadata": {
    "colab": {
      "provenance": []
    },
    "kernelspec": {
      "name": "python3",
      "display_name": "Python 3"
    },
    "language_info": {
      "name": "python"
    }
  },
  "cells": [
    {
      "cell_type": "markdown",
      "source": [
        "#Python Basics\n"
      ],
      "metadata": {
        "id": "NjoVFeSs82p7"
      }
    },
    {
      "cell_type": "markdown",
      "source": [
        " 1. What is Python, and why is it popular?\n",
        "    - Python is a high-level interpreted programming language that is mainly known for being simple and easy to read. It was created by Guido van Rossum and first came out in 1991. The syntax of Python is very clean and almost looks like normal English, which makes it beginner-friendly. At the same time, it is also powerful enough for professionals to use in different fields.\n",
        "    \n",
        "        python is popular because of easy for learning for beginners and professionals. it has wide application area like-\n",
        "        web developement, data science and machine learning, software developement and game developement.Python has Strong Community Support and Millions of developers contribute tutorials, libraries, and forums. Pyhton is adopt my many popular companies like GOOGLE, NETFLIX, NASA, INSTAGRAM etc. Python has Integration Capability of Works well with C/C++, Java, and cloud services.it has lot of libraries like panda, numpy, tensorflow etc.\n",
        "\n",
        " 2. What is an interpreter in Python?\n",
        "    -  In Python, an interpreter is basically the thing that reads our code line by line and runs it directly. Unlike a compiler that changes the whole program at once, the interpreter just takes one line, understands it, and shows the result right away. It can be a bit slower than compiled languages.\n",
        "\n",
        " 3. What are pre-defined keywords in Python?\n",
        "    - Control flow: if, else, elif, for, while, break, continue, return\n",
        "\n",
        "    - Boolean values: True, False, None\n",
        "\n",
        "    - Logical operators: and, or, not, in, is\n",
        "\n",
        "    - Function and class-related: def, class, lambda, yield\n",
        "\n",
        "     Other special words: import, try, except, raise, global, nonlocal, with, as, pass.\n",
        "\n",
        " 4. Can keywords be used as variable names?\n",
        "    - no, keywords can't used as variable names because python keywords are like special words the language already understand.\n",
        "\n",
        " 5. What is mutability in Python?\n",
        "    - Mutability in Python means whether a value stored in an object can be changed after it is created or not. Mutability decides if data inside an object can be updated or it stays fixed.\n",
        "\n",
        " 6. Why are lists mutable, but tuples are immutable?\n",
        "    - List is a data structure which is made for flexibility by which you change ,remove, and add data without making a new project thats why, lists are mutable.\n",
        "    - python design the tuple for the fix collection. It is made for that nobody can accidentally change the data that's why tuples are immutable.\n",
        "\n",
        "  7. What is the difference between “==” and “is” operators in Python?\n",
        "        - in\"==\"\n",
        "          - It only check the equality of both objects or content.It only observe that both objects are same or not.\n",
        "        - in\"is\" -\n",
        "          - It checks that both variables are pointing the same object in the memory or not. If the variable point the same object then it will be TRUE otherwise FALSE.\n",
        "\n",
        "  8. What are logical operators in Python?\n",
        "     - Logical operators are used for combine 2 or more then 2 condition. There are three types of logical operators-\n",
        "         - Logical\n",
        "         - Logical NOT\n",
        "\n",
        "  9. What is type casting in Python?\n",
        "     - Type casting uses for convert one data type into another data type like, string change into number and string change into string.\n",
        "     There are two types of type casting-\n",
        "         - Implicit type casting\n",
        "         - Explicit type casting\n",
        "\n",
        "  10. What is the difference between implicit and explicit type casting?\n",
        "      -  Implicit type casting - Python automatically converts one data type into another. When a smaller data type (int) is used with a larger one (float), Python promotes it to the larger type and there is no data loss.\n",
        "      - Explicit type casting - We manually convert one data type into another using functions like int(), float(), str(), etc.it may cause data loss.\n",
        "\n",
        "  11. What is the purpose of conditional statements in Python?\n",
        "      - Conditional statements are used to make decisions in Python.\n",
        "They check whether a condition is true or false.\n",
        "Based on the result, different blocks of code are executed.\n",
        "\n",
        "  12. How does the elif statement work ?\n",
        "      -  The elif statement in Python is used when you have multiple conditions to check. First, Python checks the if condition. If it’s false, then it checks the elif condition. If one elif is true, its block runs and the rest are skipped.\n",
        "\n",
        "  13. What is the difference between for and while loops?\n",
        "      - FOR loop is used for a fixed condtion. It's used when we already know how many times to run the program.\n",
        "      - WHILE loop is depends on condtition. It is used when we just give a condition and it keeps running until that condition becomes false.\n",
        "\n",
        "  14. Describe a scenario where a while loop is more suitable than a for loop.\n",
        "      - while loop is better when we don’t know how many times to repeat like asking a user to enter the correct password it keeps running until the right input is given.  \n",
        "        \n",
        "    "
      ],
      "metadata": {
        "id": "yjc8Q0DX9keJ"
      }
    },
    {
      "cell_type": "code",
      "source": [
        "#1.  Write a Python program to print \"Hello, World!\"\n",
        "\n",
        "\n",
        "print (\"hello, world\")\n"
      ],
      "metadata": {
        "colab": {
          "base_uri": "https://localhost:8080/"
        },
        "id": "BYkiz615JQYu",
        "outputId": "548df997-6c7d-4e79-c507-796c93228c2f"
      },
      "execution_count": null,
      "outputs": [
        {
          "output_type": "stream",
          "name": "stdout",
          "text": [
            "hello, world\n"
          ]
        }
      ]
    },
    {
      "cell_type": "code",
      "source": [
        "#2. Write a Python program that displays your name and age\n",
        "\n",
        "name = \"sagar\"\n",
        "age = 21\n",
        "print (\"My name is\", name)\n",
        "print (\"I am\", age ,\"years old\")"
      ],
      "metadata": {
        "colab": {
          "base_uri": "https://localhost:8080/"
        },
        "id": "WS3udkVrJQSA",
        "outputId": "1d27bc8c-4943-43b9-b0ea-1c5c47f051b2"
      },
      "execution_count": null,
      "outputs": [
        {
          "output_type": "stream",
          "name": "stdout",
          "text": [
            "My name is sagar\n",
            "I am 21 years old\n"
          ]
        }
      ]
    },
    {
      "cell_type": "code",
      "source": [
        "#3.  Write code to print all the pre-defined keywords in Python using the keyword library\n",
        "\n",
        "help(\"keywords\")"
      ],
      "metadata": {
        "colab": {
          "base_uri": "https://localhost:8080/"
        },
        "id": "8TTNgADQJQQg",
        "outputId": "391a36e3-5da8-4a7d-81dc-515229911af2"
      },
      "execution_count": null,
      "outputs": [
        {
          "output_type": "stream",
          "name": "stdout",
          "text": [
            "\n",
            "Here is a list of the Python keywords.  Enter any keyword to get more help.\n",
            "\n",
            "False               class               from                or\n",
            "None                continue            global              pass\n",
            "True                def                 if                  raise\n",
            "and                 del                 import              return\n",
            "as                  elif                in                  try\n",
            "assert              else                is                  while\n",
            "async               except              lambda              with\n",
            "await               finally             nonlocal            yield\n",
            "break               for                 not                 \n",
            "\n"
          ]
        }
      ]
    },
    {
      "cell_type": "code",
      "source": [
        "#4. Write a program that checks if a given word is a Python keyword.\n",
        "\n",
        "a = (\"ramesh\")\n",
        "type (a)"
      ],
      "metadata": {
        "colab": {
          "base_uri": "https://localhost:8080/"
        },
        "id": "am69Z5VWJQN0",
        "outputId": "e8b708ac-6d7d-47f1-a40f-a57ebfa54e1c"
      },
      "execution_count": null,
      "outputs": [
        {
          "output_type": "execute_result",
          "data": {
            "text/plain": [
              "str"
            ]
          },
          "metadata": {},
          "execution_count": 15
        }
      ]
    },
    {
      "cell_type": "code",
      "source": [
        "#5.   Create a list and tuple in Python, and demonstrate how attempting to change an element works differently for each.\n",
        "\n",
        "list = [1, 35, 23, 45]\n",
        "tuple = [1, 35, 23, 45]\n",
        "\n",
        "#chnage the element in list\n",
        "list[0] = 10\n",
        "print(list)\n",
        "\n",
        "#change the element in tuple\n",
        "tuple[0] = 10\n",
        "print(tuple)"
      ],
      "metadata": {
        "colab": {
          "base_uri": "https://localhost:8080/"
        },
        "id": "bzzWHXU1JPNH",
        "outputId": "68234184-b6e0-4470-8499-d74eb0377122"
      },
      "execution_count": null,
      "outputs": [
        {
          "output_type": "stream",
          "name": "stdout",
          "text": [
            "[10, 35, 23, 45]\n",
            "[10, 35, 23, 45]\n"
          ]
        }
      ]
    },
    {
      "cell_type": "code",
      "source": [
        "#6  Write a function to demonstrate the behavior of mutable and immutable arguments?\n",
        "\n",
        "#Immutable example (interger)\n",
        "x = 10\n",
        "y = x #y will the same value of x\n",
        "y += (4) #to create a new integer\n",
        "print(x) #x value will same as given-> 10 (unchanged)\n",
        "print(y) #y value will be new by-> 4 (changed)\n",
        "\n",
        "#Mutable example (list)\n",
        "x = [1, 2, 3]\n",
        "y = x #y value same of x\n",
        "y[0] = 99 #change the first element directly\n",
        "print(x) # x is change too\n",
        "print(y) #y will change as same\n",
        "\n"
      ],
      "metadata": {
        "id": "0i7y4MFHT9Jx",
        "colab": {
          "base_uri": "https://localhost:8080/"
        },
        "outputId": "2a494951-bafb-42f4-f29f-8e80c09f8092"
      },
      "execution_count": 20,
      "outputs": [
        {
          "output_type": "stream",
          "name": "stdout",
          "text": [
            "10\n",
            "14\n",
            "[99, 2, 3]\n",
            "[99, 2, 3]\n"
          ]
        }
      ]
    },
    {
      "cell_type": "code",
      "source": [
        "#7 Write a program that performs basic arithmetic operations on two user-input numbers?\n",
        "a = int(input(\"Enter the first number: \"))\n",
        "b = int(input(\"Enter the second number: \"))\n",
        "print(\"Addition: \", a+b)\n",
        "print(\"Subtraction: \", a-b)\n",
        "print(\"Multiplication: \", a*b)\n",
        "print(\"Division: \", a/b)"
      ],
      "metadata": {
        "id": "UV_BLjFCT9GM",
        "colab": {
          "base_uri": "https://localhost:8080/"
        },
        "outputId": "981f1a97-24b1-487f-fbff-5df463ff4aca"
      },
      "execution_count": 22,
      "outputs": [
        {
          "output_type": "stream",
          "name": "stdout",
          "text": [
            "Enter the first number: 6\n",
            "Enter the second number: 3\n",
            "Addition:  9\n",
            "Subtraction:  3\n",
            "Multiplication:  18\n",
            "Division:  2.0\n"
          ]
        }
      ]
    },
    {
      "cell_type": "code",
      "source": [
        "#8  Write a program to demonstrate the use of logical operators?\n",
        "a = True\n",
        "b = False\n",
        "print(a and b)\n",
        "print(a or b)\n",
        "print(not b)"
      ],
      "metadata": {
        "id": "CaLm31ZcT9DS",
        "colab": {
          "base_uri": "https://localhost:8080/"
        },
        "outputId": "c15bff7c-7f3c-432e-e232-b3ba2190e291"
      },
      "execution_count": 3,
      "outputs": [
        {
          "output_type": "stream",
          "name": "stdout",
          "text": [
            "False\n",
            "True\n",
            "True\n"
          ]
        }
      ]
    },
    {
      "cell_type": "code",
      "source": [
        "#9 Write a Python program to convert user input from string to integer, float, and boolean types?\n",
        "value = input(\"Enter a value: \")\n",
        "print(int(value))\n",
        "print(float(value))\n",
        "print(bool(value))"
      ],
      "metadata": {
        "id": "DokTlHijT8_7",
        "colab": {
          "base_uri": "https://localhost:8080/"
        },
        "outputId": "d17b8804-c007-4f41-9d04-9733aeb0a9da"
      },
      "execution_count": 17,
      "outputs": [
        {
          "output_type": "stream",
          "name": "stdout",
          "text": [
            "Enter a value: 44\n",
            "44\n",
            "44.0\n",
            "True\n"
          ]
        }
      ]
    },
    {
      "cell_type": "code",
      "source": [
        "#10  Write code to demonstrate type casting with list elements?\n",
        "str_list = [\"1\", \"2\", \"3\"]\n",
        "int_list = [int(x) for x in str_list]\n",
        "float_list = [float(x) for x in str_list]\n",
        "bool_list = [bool(x) for x in str_list]\n",
        "print(int_list)\n",
        "print(float_list)\n",
        "print(bool_list)"
      ],
      "metadata": {
        "id": "RCWVCmVkT889",
        "colab": {
          "base_uri": "https://localhost:8080/"
        },
        "outputId": "c8e2e58b-1064-47f4-99f6-c78d57e59353"
      },
      "execution_count": 6,
      "outputs": [
        {
          "output_type": "stream",
          "name": "stdout",
          "text": [
            "[1, 2, 3]\n",
            "[1.0, 2.0, 3.0]\n",
            "[True, True, True]\n"
          ]
        }
      ]
    },
    {
      "cell_type": "code",
      "source": [
        "#11  Write a program that checks if a number is positive, negative, or zero?\n",
        "num = int(input(\"enter the number: \"))\n",
        "if num > 0:\n",
        "  print(\"positive\")\n",
        "elif num < 0:\n",
        "  print(\"negative\")\n",
        "else:\n",
        "  print(\"zero\")"
      ],
      "metadata": {
        "id": "KZKzukYJT85M",
        "colab": {
          "base_uri": "https://localhost:8080/"
        },
        "outputId": "a18c1f74-9abf-407d-bdf5-714ce8635f99"
      },
      "execution_count": 7,
      "outputs": [
        {
          "output_type": "stream",
          "name": "stdout",
          "text": [
            "enter the number: 7\n",
            "positive\n"
          ]
        }
      ]
    },
    {
      "cell_type": "code",
      "source": [
        "#12 Write a for loop to print numbers from 1 to 10?\n",
        "for i in range(1, 11):\n",
        "  print(i)\n"
      ],
      "metadata": {
        "id": "t6wxShNkT82z",
        "colab": {
          "base_uri": "https://localhost:8080/"
        },
        "outputId": "89829833-13a6-4ae4-f65a-1a998d1477f9"
      },
      "execution_count": 8,
      "outputs": [
        {
          "output_type": "stream",
          "name": "stdout",
          "text": [
            "1\n",
            "2\n",
            "3\n",
            "4\n",
            "5\n",
            "6\n",
            "7\n",
            "8\n",
            "9\n",
            "10\n"
          ]
        }
      ]
    },
    {
      "cell_type": "code",
      "source": [
        "#13 Write a Python program to find the sum of all even numbers between 1 and 50?\n",
        "sum = 0\n",
        "for i in range(1, 51):\n",
        "  if i % 2 == 0:\n",
        "    sum += i\n",
        "print(sum)"
      ],
      "metadata": {
        "id": "v8UUzpORT80J",
        "colab": {
          "base_uri": "https://localhost:8080/"
        },
        "outputId": "88f410d6-40fa-404c-bef0-f23efec92b4d"
      },
      "execution_count": 9,
      "outputs": [
        {
          "output_type": "stream",
          "name": "stdout",
          "text": [
            "650\n"
          ]
        }
      ]
    },
    {
      "cell_type": "code",
      "source": [
        "#14 Write a program to reverse a string using a while loop?\n",
        "s = input(\"Enter a string: \")\n",
        "i = len(s) - 1\n",
        "\n",
        "while i >= 0:\n",
        "    print(s[i], end=\"\")\n",
        "    i -= 1"
      ],
      "metadata": {
        "id": "soJf_7EFT8tR",
        "colab": {
          "base_uri": "https://localhost:8080/"
        },
        "outputId": "10f96b4c-06cf-4f7c-9c56-30ebc5779207"
      },
      "execution_count": 15,
      "outputs": [
        {
          "output_type": "stream",
          "name": "stdout",
          "text": [
            "Enter a string: hello\n",
            "olleh"
          ]
        }
      ]
    },
    {
      "cell_type": "code",
      "source": [
        "#15 Write a Python program to calculate the factorial of a number provided by the user using a while loop?\n",
        "n = int(input(\"Enter a number: \"))\n",
        "f = 1\n",
        "while n > 1:\n",
        "  f *= n\n",
        "  n -= 1\n",
        "print(f)"
      ],
      "metadata": {
        "id": "n_nmRibqT8qn",
        "colab": {
          "base_uri": "https://localhost:8080/"
        },
        "outputId": "bcc77200-6eff-4879-a654-b2d1b3219bfc"
      },
      "execution_count": 14,
      "outputs": [
        {
          "output_type": "stream",
          "name": "stdout",
          "text": [
            "Enter a number: 5\n",
            "120\n"
          ]
        }
      ]
    }
  ]
}